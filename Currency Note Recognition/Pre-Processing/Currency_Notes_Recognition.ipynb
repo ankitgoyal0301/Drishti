{
  "nbformat": 4,
  "nbformat_minor": 0,
  "metadata": {
    "colab": {
      "name": "Currency Notes Recognition.ipynb",
      "provenance": [],
      "collapsed_sections": []
    },
    "kernelspec": {
      "name": "python3",
      "display_name": "Python 3"
    },
    "language_info": {
      "name": "python"
    }
  },
  "cells": [
    {
      "cell_type": "markdown",
      "metadata": {
        "id": "hqIpzVTe0nse"
      },
      "source": [
        "## Pre-Processing Dataset"
      ]
    },
    {
      "cell_type": "code",
      "metadata": {
        "colab": {
          "base_uri": "https://localhost:8080/"
        },
        "id": "gtACb9E90fGk",
        "outputId": "889c6178-bfa2-4bb7-a336-68a6bdfef9e1"
      },
      "source": [
        "from google.colab import drive\n",
        "drive.mount('/gdrive')\n",
        "%cd /gdrive"
      ],
      "execution_count": 1,
      "outputs": [
        {
          "output_type": "stream",
          "name": "stdout",
          "text": [
            "Mounted at /gdrive\n",
            "/gdrive\n"
          ]
        }
      ]
    },
    {
      "cell_type": "code",
      "metadata": {
        "colab": {
          "base_uri": "https://localhost:8080/"
        },
        "id": "bnefyQfN008F",
        "outputId": "23d144fe-2811-49e1-9cbb-31b4655006b3"
      },
      "source": [
        "cd /gdrive/MyDrive/Major Project/Currency Notes Recognition"
      ],
      "execution_count": 2,
      "outputs": [
        {
          "output_type": "stream",
          "name": "stdout",
          "text": [
            "/gdrive/MyDrive/Major Project/Currency Notes Recognition\n"
          ]
        }
      ]
    },
    {
      "cell_type": "markdown",
      "metadata": {
        "id": "lc6JFKx617kW"
      },
      "source": [
        "### Creating final dataset folder"
      ]
    },
    {
      "cell_type": "code",
      "metadata": {
        "id": "BadWhyD71LUI"
      },
      "source": [
        "import os\n",
        "directory = \"final_dataset\"\n",
        "parent_dir = \"/gdrive/MyDrive/Major Project/Currency Notes Recognition\"\n",
        "path = os.path.join(parent_dir, directory)\n",
        "\n",
        "os.mkdir(path)"
      ],
      "execution_count": 4,
      "outputs": []
    },
    {
      "cell_type": "markdown",
      "metadata": {
        "id": "-vvKcJoN2LSm"
      },
      "source": [
        "### Creating Test, training and Validation folders"
      ]
    },
    {
      "cell_type": "code",
      "metadata": {
        "id": "auSpehYG1PtO"
      },
      "source": [
        "directory = \"test\"\n",
        "parent_dir = \"/gdrive/MyDrive/Major Project/Currency Notes Recognition/final_dataset\"\n",
        "path = os.path.join(parent_dir, directory)\n",
        "\n",
        "os.mkdir(path)"
      ],
      "execution_count": 5,
      "outputs": []
    },
    {
      "cell_type": "code",
      "metadata": {
        "id": "m3W_R5gg2VxG"
      },
      "source": [
        "directory = \"training\"\n",
        "parent_dir = \"/gdrive/MyDrive/Major Project/Currency Notes Recognition/final_dataset\"\n",
        "path = os.path.join(parent_dir, directory)\n",
        "\n",
        "os.mkdir(path)"
      ],
      "execution_count": 6,
      "outputs": []
    },
    {
      "cell_type": "code",
      "metadata": {
        "id": "IWxXhpVj2XhH"
      },
      "source": [
        "directory = \"validation\"\n",
        "parent_dir = \"/gdrive/MyDrive/Major Project/Currency Notes Recognition/final_dataset\"\n",
        "path = os.path.join(parent_dir, directory)\n",
        "\n",
        "os.mkdir(path)"
      ],
      "execution_count": 7,
      "outputs": []
    },
    {
      "cell_type": "markdown",
      "metadata": {
        "id": "eBsF-uVG2m-V"
      },
      "source": [
        "## Test Data"
      ]
    },
    {
      "cell_type": "code",
      "metadata": {
        "colab": {
          "base_uri": "https://localhost:8080/"
        },
        "id": "JiOfTz1w2ZBK",
        "outputId": "dcedb948-ff56-4393-e607-91ab40d4a1d1"
      },
      "source": [
        "import shutil\n",
        "import os\n",
        "\n",
        "src_dir = '/gdrive/MyDrive/Major Project/Currency Notes Recognition/Datasets/Indian_currency_dataset_v1/test'\n",
        "dest_dir = '/gdrive/MyDrive/Major Project/Currency Notes Recognition/final_dataset/test'\n",
        "\n",
        "files = os.listdir(src_dir)\n",
        "\n",
        "print(files)\n",
        "\n",
        "for f in files:\n",
        "    shutil.copy(src_dir + '/' + f, dest_dir)"
      ],
      "execution_count": 11,
      "outputs": [
        {
          "output_type": "stream",
          "name": "stdout",
          "text": [
            "['100_270.jpg', '100_15.jpg', '100_3.jpg', '100_20.jpg', '100_371.jpg', '100_4.jpg', '100__371.jpg', '100_359.jpg', '100__386.jpg', '100__415.jpg', '100__389.jpg', '100__435.jpg', '100__427.jpg', '100__437.jpg', '10__276.jpg', '10__324.jpg', '10__358.jpg', '10__206.jpg', '10__247.jpg', '200.__1.jpg', '10__443.jpg', '200.__142.jpg', '10__388.jpg', '200.__170.jpg', '200.__17.jpg', '200.__143.jpg', '200.__206.jpg', '200.__192.jpg', '200.__338.jpg', '200.__290.jpg', '200.__225.jpg', '200.__254.jpg', '2000__37.jpg', '200.__492.jpg', '2000__161.jpg', '20__65.jpg', '20__136.jpg', '500__114.jpg', '2000__8.jpg', '20__226.jpg', '20__415.jpg', '500__17.jpg', '2000__428.jpg', '2000__317.jpg', '2000__288.jpg', '2000__66.jpg', '20__107.jpg', '500__0.jpg', '2000__114.jpg', '500__233.jpg', '2000__359.jpg', '20__324.jpg', '200.__87.jpg', '20__350.jpg', '2000__240.jpg', '20__449.jpg', '20__36.jpg', '200.__37.jpg', '20__9.jpg', '200.__402.jpg', '20__295.jpg', '2000__261.jpg', '20__72.jpg', '500__289.jpg', '500__374.jpg', '50__147.jpg', '50__274.jpg', '500__262.jpg', '50__288.jpg', '50__295.jpg', 'Background__304.jpg', 'Background__303.jpg', 'Background__305.jpg', '500__429.jpg', '50__183.jpg', '500__37.jpg', '50__213.jpg', '500__57.jpg', '50__408.jpg', '500__331.jpg', 'Background__309.jpg', '50__338.jpg', '50__267.jpg', '50__442.jpg', '50__366.jpg', '50__148.jpg', 'Background__302.jpg', '50__345.jpg', 'Background__312.jpg', 'Background__311.jpg', 'Background__310.jpg']\n"
          ]
        }
      ]
    },
    {
      "cell_type": "markdown",
      "metadata": {
        "id": "twMRB0bU5cLf"
      },
      "source": [
        "## Validation Data"
      ]
    },
    {
      "cell_type": "markdown",
      "metadata": {
        "id": "VLOR-8Am5o0d"
      },
      "source": [
        "### Creating categories"
      ]
    },
    {
      "cell_type": "code",
      "metadata": {
        "id": "M3jUaSIz3Jbz"
      },
      "source": [
        "denominations = ['10','20','50','100','200','500','2000','Background']"
      ],
      "execution_count": 13,
      "outputs": []
    },
    {
      "cell_type": "code",
      "metadata": {
        "id": "dXuqoo185agU"
      },
      "source": [
        "parent_dir = \"/gdrive/MyDrive/Major Project/Currency Notes Recognition/final_dataset/validation\"\n",
        "\n",
        "for x in denominations:\n",
        "  directory = x\n",
        "  path = os.path.join(parent_dir, directory)\n",
        "  os.mkdir(path)"
      ],
      "execution_count": 14,
      "outputs": []
    },
    {
      "cell_type": "code",
      "metadata": {
        "id": "sZLZHq1t6MJT"
      },
      "source": [
        "src_dir = ['/gdrive/MyDrive/Major Project/Currency Notes Recognition/Datasets/Indian_currency_dataset_v1/validation',\n",
        "           '/gdrive/MyDrive/Major Project/Currency Notes Recognition/Datasets/indian_currency_new/validation']\n",
        "\n",
        "dest_dir = '/gdrive/MyDrive/Major Project/Currency Notes Recognition/final_dataset/validation'"
      ],
      "execution_count": 20,
      "outputs": []
    },
    {
      "cell_type": "markdown",
      "metadata": {
        "id": "RX9CUqTS_V2v"
      },
      "source": [
        "### Copying files to final dataset"
      ]
    },
    {
      "cell_type": "code",
      "metadata": {
        "id": "kfmdxGVI62UX"
      },
      "source": [
        "for y in src_dir:\n",
        "  dir = [x[0] for x in os.walk(y)]\n",
        "  \n",
        "  for cur in dir:\n",
        "    category = cur.split('/')\n",
        "\n",
        "    if category[-1] != 'validation':\n",
        "      files = os.listdir(cur)\n",
        "\n",
        "      for f in files:\n",
        "        shutil.copy(cur + '/' + f, dest_dir + '/' + category[-1])"
      ],
      "execution_count": 24,
      "outputs": []
    },
    {
      "cell_type": "markdown",
      "metadata": {
        "id": "_R-6uGVo_wSf"
      },
      "source": [
        "### Renaming files"
      ]
    },
    {
      "cell_type": "code",
      "metadata": {
        "id": "KeSne4XdAZa7"
      },
      "source": [
        "dir = [x[0] for x in os.walk(dest_dir)]\n",
        "\n",
        "for cur in dir:\n",
        "    category = cur.split('/')\n",
        "\n",
        "    if category[-1] != 'validation':\n",
        "      files = os.listdir(cur)\n",
        "\n",
        "      index = 1\n",
        "      deno = category[-1]\n",
        "\n",
        "      for f in files:\n",
        "        os.rename(cur + '/' + f,cur + '/' + deno + '_' + str(index))\n",
        "        index += 1"
      ],
      "execution_count": 28,
      "outputs": []
    },
    {
      "cell_type": "markdown",
      "metadata": {
        "id": "7clQigkuCDb6"
      },
      "source": [
        "## Training data"
      ]
    },
    {
      "cell_type": "markdown",
      "metadata": {
        "id": "V2Zt4bjrCZVz"
      },
      "source": [
        "### Creating categories"
      ]
    },
    {
      "cell_type": "code",
      "metadata": {
        "id": "Owlb_SKD7DB4"
      },
      "source": [
        "denominations = ['10','20','50','100','200','500','2000','Background']"
      ],
      "execution_count": 29,
      "outputs": []
    },
    {
      "cell_type": "code",
      "metadata": {
        "id": "2DlzaACkCeZp"
      },
      "source": [
        "parent_dir = \"/gdrive/MyDrive/Major Project/Currency Notes Recognition/final_dataset/training\"\n",
        "\n",
        "for x in denominations:\n",
        "  directory = x\n",
        "  path = os.path.join(parent_dir, directory)\n",
        "  os.mkdir(path)"
      ],
      "execution_count": 30,
      "outputs": []
    },
    {
      "cell_type": "code",
      "metadata": {
        "id": "JSepK-T1DHMj"
      },
      "source": [
        "src_dir = ['/gdrive/MyDrive/Major Project/Currency Notes Recognition/Datasets/Indian_currency_dataset_v1/training',\n",
        "           '/gdrive/MyDrive/Major Project/Currency Notes Recognition/Datasets/indian_currency_new/training']\n",
        "\n",
        "dest_dir = '/gdrive/MyDrive/Major Project/Currency Notes Recognition/final_dataset/training'"
      ],
      "execution_count": 31,
      "outputs": []
    },
    {
      "cell_type": "markdown",
      "metadata": {
        "id": "uHB8V1LbDaD8"
      },
      "source": [
        "### Copying files to final dataset"
      ]
    },
    {
      "cell_type": "code",
      "metadata": {
        "colab": {
          "base_uri": "https://localhost:8080/"
        },
        "id": "FUTF69aLDp8C",
        "outputId": "403fd031-e967-4573-8a48-f8fb674927f9"
      },
      "source": [
        "dir = [x[0] for x in os.walk(src_dir[0])]\n",
        "dir"
      ],
      "execution_count": 32,
      "outputs": [
        {
          "output_type": "execute_result",
          "data": {
            "text/plain": [
              "['/gdrive/MyDrive/Major Project/Currency Notes Recognition/Datasets/Indian_currency_dataset_v1/training',\n",
              " '/gdrive/MyDrive/Major Project/Currency Notes Recognition/Datasets/Indian_currency_dataset_v1/training/Background',\n",
              " '/gdrive/MyDrive/Major Project/Currency Notes Recognition/Datasets/Indian_currency_dataset_v1/training/500',\n",
              " '/gdrive/MyDrive/Major Project/Currency Notes Recognition/Datasets/Indian_currency_dataset_v1/training/20',\n",
              " '/gdrive/MyDrive/Major Project/Currency Notes Recognition/Datasets/Indian_currency_dataset_v1/training/200',\n",
              " '/gdrive/MyDrive/Major Project/Currency Notes Recognition/Datasets/Indian_currency_dataset_v1/training/100',\n",
              " '/gdrive/MyDrive/Major Project/Currency Notes Recognition/Datasets/Indian_currency_dataset_v1/training/50',\n",
              " '/gdrive/MyDrive/Major Project/Currency Notes Recognition/Datasets/Indian_currency_dataset_v1/training/10',\n",
              " '/gdrive/MyDrive/Major Project/Currency Notes Recognition/Datasets/Indian_currency_dataset_v1/training/2000']"
            ]
          },
          "metadata": {},
          "execution_count": 32
        }
      ]
    },
    {
      "cell_type": "code",
      "metadata": {
        "id": "uKbvhFGJDXRL"
      },
      "source": [
        "for y in src_dir:\n",
        "  dir = [x[0] for x in os.walk(y)]\n",
        "  \n",
        "  for cur in dir:\n",
        "    category = cur.split('/')\n",
        "\n",
        "    if category[-1] != 'training':\n",
        "      files = os.listdir(cur)\n",
        "\n",
        "      for f in files:\n",
        "        shutil.copy(cur + '/' + f, dest_dir + '/' + category[-1])"
      ],
      "execution_count": 33,
      "outputs": []
    },
    {
      "cell_type": "markdown",
      "metadata": {
        "id": "H3IT3zvjD3xw"
      },
      "source": [
        "### Renaming Files"
      ]
    },
    {
      "cell_type": "code",
      "metadata": {
        "id": "1fdifNB1D1Yr"
      },
      "source": [
        "dir = [x[0] for x in os.walk(dest_dir)]\n",
        "\n",
        "for cur in dir:\n",
        "    category = cur.split('/')\n",
        "\n",
        "    if category[-1] != 'training':\n",
        "      files = os.listdir(cur)\n",
        "\n",
        "      index = 1\n",
        "      deno = category[-1]\n",
        "\n",
        "      for f in files:\n",
        "        os.rename(cur + '/' + f,cur + '/' + deno + '_' + str(index))\n",
        "        index += 1"
      ],
      "execution_count": 34,
      "outputs": []
    },
    {
      "cell_type": "markdown",
      "metadata": {
        "id": "VvU8KHWuG3jK"
      },
      "source": [
        "## Currency dataset to final_dataset training "
      ]
    },
    {
      "cell_type": "markdown",
      "metadata": {
        "id": "5TF6F3SuHHhh"
      },
      "source": [
        "### 50"
      ]
    },
    {
      "cell_type": "code",
      "metadata": {
        "id": "z79kCGiOG7qI"
      },
      "source": [
        "src_dir = '/gdrive/MyDrive/Major Project/Currency Notes Recognition/Datasets/currency_dataset/fifty'\n",
        "dest_dir = '/gdrive/MyDrive/Major Project/Currency Notes Recognition/final_dataset/training/50'\n",
        "\n",
        "files = os.listdir(src_dir)\n",
        "\n",
        "index = len(os.listdir(dest_dir)) + 1\n",
        "deno = '50'\n",
        "\n",
        "for f in files:\n",
        "    shutil.copy(src_dir + '/' + f, dest_dir)\n",
        "    os.rename(src_dir + '/' + f, dest_dir + '/' + deno + '_' + str(index))\n",
        "    index += 1"
      ],
      "execution_count": 36,
      "outputs": []
    },
    {
      "cell_type": "markdown",
      "metadata": {
        "id": "OutYM5RxHKsa"
      },
      "source": [
        "### 20"
      ]
    },
    {
      "cell_type": "code",
      "metadata": {
        "id": "mnDuMOl9HMMH"
      },
      "source": [
        "src_dir = '/gdrive/MyDrive/Major Project/Currency Notes Recognition/Datasets/currency_dataset/twenty'\n",
        "dest_dir = '/gdrive/MyDrive/Major Project/Currency Notes Recognition/final_dataset/training/20'\n",
        "\n",
        "files = os.listdir(src_dir)\n",
        "\n",
        "index = len(os.listdir(dest_dir)) + 1\n",
        "deno = '20'\n",
        "\n",
        "for f in files:\n",
        "    shutil.copy(src_dir + '/' + f, dest_dir)\n",
        "    os.rename(src_dir + '/' + f, dest_dir + '/' + deno + '_' + str(index))\n",
        "    index += 1"
      ],
      "execution_count": 37,
      "outputs": []
    },
    {
      "cell_type": "markdown",
      "metadata": {
        "id": "09ZCh-iBHMlo"
      },
      "source": [
        "### 10"
      ]
    },
    {
      "cell_type": "code",
      "metadata": {
        "id": "q1Mns9xOHLn1"
      },
      "source": [
        "src_dir = '/gdrive/MyDrive/Major Project/Currency Notes Recognition/Datasets/currency_dataset/ten'\n",
        "dest_dir = '/gdrive/MyDrive/Major Project/Currency Notes Recognition/final_dataset/training/10'\n",
        "\n",
        "files = os.listdir(src_dir)\n",
        "\n",
        "index = len(os.listdir(dest_dir)) + 1\n",
        "deno = '10'\n",
        "\n",
        "for f in files:\n",
        "    shutil.copy(src_dir + '/' + f, dest_dir)\n",
        "    os.rename(src_dir + '/' + f, dest_dir + '/' + deno + '_' + str(index))\n",
        "    index += 1"
      ],
      "execution_count": 38,
      "outputs": []
    },
    {
      "cell_type": "markdown",
      "metadata": {
        "id": "3IytAlyrHQPh"
      },
      "source": [
        "### 100"
      ]
    },
    {
      "cell_type": "code",
      "metadata": {
        "id": "xWW9c339HP-8"
      },
      "source": [
        "src_dir = '/gdrive/MyDrive/Major Project/Currency Notes Recognition/Datasets/currency_dataset/hundred'\n",
        "dest_dir = '/gdrive/MyDrive/Major Project/Currency Notes Recognition/final_dataset/training/100'\n",
        "\n",
        "files = os.listdir(src_dir)\n",
        "\n",
        "index = len(os.listdir(dest_dir)) + 1\n",
        "deno = '100'\n",
        "\n",
        "for f in files:\n",
        "    shutil.copy(src_dir + '/' + f, dest_dir)\n",
        "    os.rename(src_dir + '/' + f, dest_dir + '/' + deno + '_' + str(index))\n",
        "    index += 1"
      ],
      "execution_count": 39,
      "outputs": []
    },
    {
      "cell_type": "code",
      "metadata": {
        "id": "IXE5LJsfKKkx"
      },
      "source": [
        ""
      ],
      "execution_count": null,
      "outputs": []
    }
  ]
}