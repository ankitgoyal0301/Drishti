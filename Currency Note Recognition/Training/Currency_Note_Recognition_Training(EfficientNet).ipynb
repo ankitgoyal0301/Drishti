{
  "nbformat": 4,
  "nbformat_minor": 0,
  "metadata": {
    "colab": {
      "name": "Currency Note Recognition Training(EfficientNet).ipynb",
      "provenance": [],
      "collapsed_sections": []
    },
    "kernelspec": {
      "name": "python3",
      "display_name": "Python 3"
    },
    "language_info": {
      "name": "python"
    },
    "accelerator": "GPU"
  },
  "cells": [
    {
      "cell_type": "code",
      "metadata": {
        "colab": {
          "base_uri": "https://localhost:8080/"
        },
        "id": "-FBkYBkBtZ7B",
        "outputId": "5890f0b1-396f-49e0-cbd7-194d073bfffe"
      },
      "source": [
        "from google.colab import drive\n",
        "drive.mount('/gdrive')\n",
        "%cd /gdrive"
      ],
      "execution_count": 1,
      "outputs": [
        {
          "output_type": "stream",
          "name": "stdout",
          "text": [
            "Mounted at /gdrive\n",
            "/gdrive\n"
          ]
        }
      ]
    },
    {
      "cell_type": "code",
      "metadata": {
        "id": "LKcdm7DMUEPK"
      },
      "source": [
        "from google.colab import drive\n",
        "drive.mount('/content/drive')"
      ],
      "execution_count": null,
      "outputs": []
    },
    {
      "cell_type": "code",
      "metadata": {
        "colab": {
          "base_uri": "https://localhost:8080/"
        },
        "id": "0aEB4FiLYGDG",
        "outputId": "6d65f96b-e7cb-472c-bd50-75b8f8af55ea"
      },
      "source": [
        "!pip install q tensorflow==2.1\n",
        "!pip install q keras==2.3.1\n",
        "# Resolving: AttributeError: 'str' object has no attribute 'decode'\n",
        "!pip uninstall h5py\n",
        "!pip install h5py==2.10.0"
      ],
      "execution_count": null,
      "outputs": [
        {
          "output_type": "stream",
          "name": "stdout",
          "text": [
            "Collecting q\n",
            "  Downloading q-2.6-py2.py3-none-any.whl (6.8 kB)\n",
            "Collecting tensorflow==2.1\n",
            "  Downloading tensorflow-2.1.0-cp37-cp37m-manylinux2010_x86_64.whl (421.8 MB)\n",
            "\u001b[K     |███████████████████████████▎    | 359.9 MB 1.6 MB/s eta 0:00:39"
          ]
        }
      ]
    },
    {
      "cell_type": "code",
      "metadata": {
        "colab": {
          "base_uri": "https://localhost:8080/"
        },
        "id": "gYRDaxnvxOvV",
        "outputId": "3499594e-a0d6-4814-fedb-15f9becdad1a"
      },
      "source": [
        "from sklearn.model_selection import StratifiedShuffleSplit\n",
        "import cv2\n",
        "import albumentations as albu\n",
        "from skimage.transform import resize\n",
        "import numpy as np\n",
        "import pandas as pd\n",
        "import matplotlib.pyplot as plt\n",
        "%matplotlib inline\n",
        "from pylab import rcParams\n",
        "from sklearn.metrics import accuracy_score, confusion_matrix, classification_report\n",
        "from keras.callbacks import Callback, EarlyStopping, ReduceLROnPlateau\n",
        "import tensorflow as tf\n",
        "import keras\n",
        "from keras.models import Sequential, load_model\n",
        "from keras.layers import Dropout, Dense, GlobalAveragePooling2D\n",
        "from keras.optimizers import Adam\n",
        "\n",
        "!pip install -U segmentation-models\n",
        "import efficientnet.keras as efn"
      ],
      "execution_count": 24,
      "outputs": [
        {
          "output_type": "stream",
          "name": "stdout",
          "text": [
            "Requirement already satisfied: segmentation-models in /usr/local/lib/python3.7/dist-packages (1.0.1)\n",
            "Requirement already satisfied: keras-applications<=1.0.8,>=1.0.7 in /usr/local/lib/python3.7/dist-packages (from segmentation-models) (1.0.8)\n",
            "Requirement already satisfied: efficientnet==1.0.0 in /usr/local/lib/python3.7/dist-packages (from segmentation-models) (1.0.0)\n",
            "Requirement already satisfied: image-classifiers==1.0.0 in /usr/local/lib/python3.7/dist-packages (from segmentation-models) (1.0.0)\n",
            "Requirement already satisfied: scikit-image in /usr/local/lib/python3.7/dist-packages (from efficientnet==1.0.0->segmentation-models) (0.16.2)\n",
            "Requirement already satisfied: numpy>=1.9.1 in /usr/local/lib/python3.7/dist-packages (from keras-applications<=1.0.8,>=1.0.7->segmentation-models) (1.19.5)\n",
            "Requirement already satisfied: h5py in /usr/local/lib/python3.7/dist-packages (from keras-applications<=1.0.8,>=1.0.7->segmentation-models) (2.10.0)\n",
            "Requirement already satisfied: six in /usr/local/lib/python3.7/dist-packages (from h5py->keras-applications<=1.0.8,>=1.0.7->segmentation-models) (1.15.0)\n",
            "Requirement already satisfied: pillow>=4.3.0 in /usr/local/lib/python3.7/dist-packages (from scikit-image->efficientnet==1.0.0->segmentation-models) (7.1.2)\n",
            "Requirement already satisfied: imageio>=2.3.0 in /usr/local/lib/python3.7/dist-packages (from scikit-image->efficientnet==1.0.0->segmentation-models) (2.4.1)\n",
            "Requirement already satisfied: PyWavelets>=0.4.0 in /usr/local/lib/python3.7/dist-packages (from scikit-image->efficientnet==1.0.0->segmentation-models) (1.1.1)\n",
            "Requirement already satisfied: matplotlib!=3.0.0,>=2.0.0 in /usr/local/lib/python3.7/dist-packages (from scikit-image->efficientnet==1.0.0->segmentation-models) (3.2.2)\n",
            "Requirement already satisfied: networkx>=2.0 in /usr/local/lib/python3.7/dist-packages (from scikit-image->efficientnet==1.0.0->segmentation-models) (2.6.3)\n",
            "Requirement already satisfied: scipy>=0.19.0 in /usr/local/lib/python3.7/dist-packages (from scikit-image->efficientnet==1.0.0->segmentation-models) (1.4.1)\n",
            "Requirement already satisfied: kiwisolver>=1.0.1 in /usr/local/lib/python3.7/dist-packages (from matplotlib!=3.0.0,>=2.0.0->scikit-image->efficientnet==1.0.0->segmentation-models) (1.3.2)\n",
            "Requirement already satisfied: cycler>=0.10 in /usr/local/lib/python3.7/dist-packages (from matplotlib!=3.0.0,>=2.0.0->scikit-image->efficientnet==1.0.0->segmentation-models) (0.10.0)\n",
            "Requirement already satisfied: python-dateutil>=2.1 in /usr/local/lib/python3.7/dist-packages (from matplotlib!=3.0.0,>=2.0.0->scikit-image->efficientnet==1.0.0->segmentation-models) (2.8.2)\n",
            "Requirement already satisfied: pyparsing!=2.0.4,!=2.1.2,!=2.1.6,>=2.0.1 in /usr/local/lib/python3.7/dist-packages (from matplotlib!=3.0.0,>=2.0.0->scikit-image->efficientnet==1.0.0->segmentation-models) (2.4.7)\n"
          ]
        }
      ]
    },
    {
      "cell_type": "code",
      "metadata": {
        "id": "xGlaZLdv1HDg"
      },
      "source": [
        "from tensorflow.keras.preprocessing.image import ImageDataGenerator"
      ],
      "execution_count": 2,
      "outputs": []
    },
    {
      "cell_type": "code",
      "metadata": {
        "id": "-rHnjZ95wYKp"
      },
      "source": [
        "height = 224\n",
        "width = 224\n",
        "channels = 3\n",
        "input_shape = (height, width, channels)\n",
        "\n",
        "n_classes = 8"
      ],
      "execution_count": 16,
      "outputs": []
    },
    {
      "cell_type": "code",
      "metadata": {
        "id": "HF2lt2KX2B9Q"
      },
      "source": [
        "tf.keras.backend.clear_session()"
      ],
      "execution_count": 17,
      "outputs": []
    },
    {
      "cell_type": "code",
      "metadata": {
        "colab": {
          "base_uri": "https://localhost:8080/"
        },
        "id": "aan41xpHw555",
        "outputId": "92f99f2a-38fd-4ba8-9f0d-4afdfcc16d38"
      },
      "source": [
        "efnb0 = efn.EfficientNetB0(weights='imagenet', include_top=False, input_shape=input_shape, classes=n_classes)\n",
        "\n",
        "model = Sequential()\n",
        "model.add(efnb0)\n",
        "model.add(GlobalAveragePooling2D())\n",
        "model.add(Dropout(0.5))\n",
        "model.add(Dense(n_classes, activation='softmax'))\n",
        "\n",
        "model.summary()"
      ],
      "execution_count": 18,
      "outputs": [
        {
          "output_type": "stream",
          "name": "stdout",
          "text": [
            "Model: \"sequential_1\"\n",
            "_________________________________________________________________\n",
            "Layer (type)                 Output Shape              Param #   \n",
            "=================================================================\n",
            "efficientnet-b0 (Model)      (None, 7, 7, 1280)        4049564   \n",
            "_________________________________________________________________\n",
            "global_average_pooling2d_1 ( (None, 1280)              0         \n",
            "_________________________________________________________________\n",
            "dropout_1 (Dropout)          (None, 1280)              0         \n",
            "_________________________________________________________________\n",
            "dense_1 (Dense)              (None, 8)                 10248     \n",
            "=================================================================\n",
            "Total params: 4,059,812\n",
            "Trainable params: 4,017,796\n",
            "Non-trainable params: 42,016\n",
            "_________________________________________________________________\n"
          ]
        }
      ]
    },
    {
      "cell_type": "code",
      "metadata": {
        "id": "g768GewY0Eqn"
      },
      "source": [
        "# Directory with our training pictures\n",
        "train_dir = '/content/drive/MyDrive/Major Project/Currency Notes Recognition/final_dataset/training'\n",
        "\n",
        "# Directory with our validation pictures\n",
        "validation_dir = '/content/drive/MyDrive/Major Project/Currency Notes Recognition/final_dataset/validation'"
      ],
      "execution_count": 19,
      "outputs": []
    },
    {
      "cell_type": "code",
      "metadata": {
        "colab": {
          "base_uri": "https://localhost:8080/"
        },
        "id": "YiKc8l7z0F5o",
        "outputId": "2e0e4e28-0e0f-4a32-92ce-d7f474c73bb9"
      },
      "source": [
        "# Add our data-augmentation parameters to ImageDataGenerator\n",
        "train_datagen = ImageDataGenerator(rescale = 1./255.,\n",
        "                                   rotation_range = 45,\n",
        "                                   width_shift_range = 0.1,\n",
        "                                   height_shift_range = 0.1,\n",
        "                                   shear_range = 0.2,\n",
        "                                   zoom_range = 0.1,\n",
        "                                   horizontal_flip = True)\n",
        "\n",
        "# Note that the validation data should not be augmented!\n",
        "test_datagen = ImageDataGenerator( rescale = 1.0/255. )\n",
        "\n",
        "# Flow training images in batches of 20 using train_datagen generator\n",
        "train_generator = train_datagen.flow_from_directory(train_dir,\n",
        "                                                    batch_size = 20,\n",
        "                                                    class_mode = 'categorical', \n",
        "                                                    target_size = (224, 224))     \n",
        "\n",
        "# Flow validation images in batches of 20 using test_datagen generator\n",
        "validation_generator =  test_datagen.flow_from_directory( validation_dir,\n",
        "                                                          batch_size  = 20,\n",
        "                                                          class_mode  = 'categorical', \n",
        "                                                          target_size = (224, 224))"
      ],
      "execution_count": 20,
      "outputs": [
        {
          "output_type": "stream",
          "name": "stdout",
          "text": [
            "Found 7833 images belonging to 8 classes.\n",
            "Found 536 images belonging to 8 classes.\n"
          ]
        }
      ]
    },
    {
      "cell_type": "code",
      "metadata": {
        "id": "N91Ki3lvxr0d"
      },
      "source": [
        "optimizer = Adam(lr=0.0001)\n",
        "\n",
        "#early stopping to monitor the validation loss and avoid overfitting\n",
        "early_stop = EarlyStopping(monitor='val_loss', mode='min', verbose=1, patience=10, restore_best_weights=True)\n",
        "\n",
        "#reducing learning rate on plateau\n",
        "rlrop = ReduceLROnPlateau(monitor='val_loss', mode='min', patience= 5, factor= 0.5, min_lr= 1e-6, verbose=1)\n",
        "\n",
        "#model compiling\n",
        "model.compile(optimizer=optimizer, loss='categorical_crossentropy', metrics=['acc'])"
      ],
      "execution_count": 21,
      "outputs": []
    },
    {
      "cell_type": "code",
      "metadata": {
        "colab": {
          "base_uri": "https://localhost:8080/"
        },
        "id": "4faqrBP7z8Wc",
        "outputId": "8a2a8420-ec48-4d3d-b75a-7d63b6403c6f"
      },
      "source": [
        "filepath = '/content/drive/MyDrive/Major Project/Currency Notes Recognition/Trained Model/model_5.h5'\n",
        "\n",
        "from keras.callbacks import ModelCheckpoint\n",
        "\n",
        "checkpoint = ModelCheckpoint(filepath, monitor='val_acc', verbose=1, save_best_only=True, mode='max')\n",
        "\n",
        "model_history = model.fit(train_generator, \n",
        "                          validation_data = validation_generator, \n",
        "                          callbacks = [early_stop,checkpoint],\n",
        "                          verbose = 1, \n",
        "                          epochs = 20)\n",
        "\n",
        "#saving the trained model weights as data file in .h5 format\n",
        "model.save_weights(\"/content/drive/MyDrive/Major Project/Currency Notes Recognition/Trained Model/cifar_efficientnetb0_weights_2.h5\")"
      ],
      "execution_count": 22,
      "outputs": [
        {
          "output_type": "stream",
          "name": "stdout",
          "text": [
            "Epoch 1/10\n",
            "391/392 [============================>.] - ETA: 6s - loss: 0.8652 - acc: 0.7266 "
          ]
        },
        {
          "output_type": "stream",
          "name": "stderr",
          "text": [
            "/usr/local/lib/python3.7/dist-packages/PIL/TiffImagePlugin.py:788: UserWarning: Corrupt EXIF data.  Expecting to read 4 bytes but only got 0. \n",
            "  warnings.warn(str(msg))\n"
          ]
        },
        {
          "output_type": "stream",
          "name": "stdout",
          "text": [
            "\b\b\b\b\b\b\b\b\b\b\b\b\b\b\b\b\b\b\b\b\b\b\b\b\b\b\b\b\b\b\b\b\b\b\b\b\b\b\b\b\b\b\b\b\b\b\b\b\b\b\b\b\b\b\b\b\b\b\b\b\b\b\b\b\b\b\b\b\b\b\b\b\b\b\b\b\b\b\b\r392/392 [==============================] - 2522s 6s/step - loss: 0.8633 - acc: 0.7273 - val_loss: 0.0450 - val_acc: 0.9571\n",
            "\n",
            "Epoch 00001: val_acc improved from -inf to 0.95709, saving model to /content/drive/MyDrive/Major Project/Currency Notes Recognition/Trained Model/model_4.h5\n"
          ]
        },
        {
          "output_type": "stream",
          "name": "stderr",
          "text": [
            "/usr/local/lib/python3.7/dist-packages/keras/engine/saving.py:165: UserWarning: TensorFlow optimizers do not make it possible to access optimizer attributes or optimizer state after instantiation. As a result, we cannot save the optimizer as part of the model save file.You will have to compile your model again after loading it. Prefer using a Keras optimizer instead (see keras.io/optimizers).\n",
            "  'TensorFlow optimizers do not '\n"
          ]
        },
        {
          "output_type": "stream",
          "name": "stdout",
          "text": [
            "Epoch 2/10\n",
            "392/392 [==============================] - 529s 1s/step - loss: 0.1383 - acc: 0.9648 - val_loss: 0.0077 - val_acc: 0.9907\n",
            "\n",
            "Epoch 00002: val_acc improved from 0.95709 to 0.99067, saving model to /content/drive/MyDrive/Major Project/Currency Notes Recognition/Trained Model/model_4.h5\n",
            "Epoch 3/10\n",
            "392/392 [==============================] - 516s 1s/step - loss: 0.0620 - acc: 0.9856 - val_loss: 0.0029 - val_acc: 0.9925\n",
            "\n",
            "Epoch 00003: val_acc improved from 0.99067 to 0.99254, saving model to /content/drive/MyDrive/Major Project/Currency Notes Recognition/Trained Model/model_4.h5\n",
            "Epoch 4/10\n",
            "392/392 [==============================] - 526s 1s/step - loss: 0.0451 - acc: 0.9889 - val_loss: 0.0305 - val_acc: 0.9925\n",
            "\n",
            "Epoch 00004: val_acc did not improve from 0.99254\n",
            "Epoch 5/10\n",
            "392/392 [==============================] - 530s 1s/step - loss: 0.0329 - acc: 0.9920 - val_loss: 0.0012 - val_acc: 0.9925\n",
            "\n",
            "Epoch 00005: val_acc did not improve from 0.99254\n",
            "Epoch 6/10\n",
            "392/392 [==============================] - 529s 1s/step - loss: 0.0215 - acc: 0.9949 - val_loss: 0.0411 - val_acc: 0.9944\n",
            "\n",
            "Epoch 00006: val_acc improved from 0.99254 to 0.99440, saving model to /content/drive/MyDrive/Major Project/Currency Notes Recognition/Trained Model/model_4.h5\n",
            "Epoch 7/10\n",
            "392/392 [==============================] - 535s 1s/step - loss: 0.0180 - acc: 0.9950 - val_loss: 0.1068 - val_acc: 0.9925\n",
            "\n",
            "Epoch 00007: val_acc did not improve from 0.99440\n",
            "Epoch 8/10\n",
            "392/392 [==============================] - 523s 1s/step - loss: 0.0188 - acc: 0.9940 - val_loss: 3.9297e-04 - val_acc: 0.9907\n",
            "\n",
            "Epoch 00008: val_acc did not improve from 0.99440\n",
            "Epoch 9/10\n",
            "392/392 [==============================] - 525s 1s/step - loss: 0.0156 - acc: 0.9953 - val_loss: 0.0019 - val_acc: 0.9907\n",
            "\n",
            "Epoch 00009: val_acc did not improve from 0.99440\n",
            "Epoch 10/10\n",
            "392/392 [==============================] - 528s 1s/step - loss: 0.0146 - acc: 0.9958 - val_loss: 4.9849e-04 - val_acc: 0.9944\n",
            "\n",
            "Epoch 00010: val_acc did not improve from 0.99440\n"
          ]
        }
      ]
    },
    {
      "cell_type": "code",
      "metadata": {
        "colab": {
          "base_uri": "https://localhost:8080/",
          "height": 295
        },
        "id": "IJn5jJcQ1dbF",
        "outputId": "d81224ff-b605-4fa8-e89b-7670bf23f970"
      },
      "source": [
        "from matplotlib import pyplot as plt\n",
        "plt.plot(model_history.history['acc'])\n",
        "plt.plot(model_history.history['val_acc'])\n",
        "plt.title('model accuracy')\n",
        "plt.ylabel('accuracy')\n",
        "plt.xlabel('epoch')\n",
        "plt.legend(['train', 'val'], loc='upper left')\n",
        "plt.show()"
      ],
      "execution_count": 23,
      "outputs": [
        {
          "output_type": "display_data",
          "data": {
            "image/png": "[encoded data removed]",
            "text/plain": [
              "<Figure size 432x288 with 1 Axes>"
            ]
          },
          "metadata": {
            "needs_background": "light"
          }
        }
      ]
    },
    {
      "cell_type": "code",
      "metadata": {
        "id": "7Ln7cLoSMnnE"
      },
      "source": [
        ""
      ],
      "execution_count": null,
      "outputs": []
    }
  ]
}